{
  "nbformat": 4,
  "nbformat_minor": 0,
  "metadata": {
    "colab": {
      "name": "Digit Recognizer using LeNet.ipynb",
      "version": "0.3.2",
      "provenance": [],
      "collapsed_sections": [],
      "include_colab_link": true
    },
    "kernelspec": {
      "name": "python3",
      "display_name": "Python 3"
    }
  },
  "cells": [
    {
      "cell_type": "markdown",
      "metadata": {
        "id": "view-in-github",
        "colab_type": "text"
      },
      "source": [
        "<a href=\"https://colab.research.google.com/github/baasitsharief/kaggle_digit_recognizer/blob/master/Digit_Recognizer_using_LeNet.ipynb\" target=\"_parent\"><img src=\"https://colab.research.google.com/assets/colab-badge.svg\" alt=\"Open In Colab\"/></a>"
      ]
    },
    {
      "cell_type": "code",
      "metadata": {
        "id": "2Fr2s39YoXD4",
        "colab_type": "code",
        "colab": {}
      },
      "source": [
        "import numpy as np\n",
        "import pandas as pd\n",
        "import torch\n",
        "import torchvision\n",
        "import matplotlib.pyplot as plt\n",
        "import matplotlib.image as mpimg\n",
        "import seaborn as sns\n",
        "%matplotlib inline\n",
        "\n",
        "np.random.seed(2)\n",
        "\n",
        "from sklearn.model_selection import train_test_split\n",
        "from sklearn.metrics import confusion_matrix\n",
        "import itertools\n",
        "\n",
        "from keras.utils.np_utils import to_categorical # convert to one-hot-encoding\n",
        "from keras.models import Sequential\n",
        "from keras.layers import Dense, Dropout, Flatten, Conv2D, MaxPool2D\n",
        "from keras.optimizers import RMSprop\n",
        "from keras.preprocessing.image import ImageDataGenerator\n",
        "from keras.callbacks import ReduceLROnPlateau\n",
        "from keras import layers\n",
        "from keras.layers import Input, Dense, Activation, ZeroPadding2D, BatchNormalization, Flatten, Conv2D\n",
        "from keras.layers import AveragePooling2D, MaxPooling2D, Dropout, GlobalMaxPooling2D, GlobalAveragePooling2D\n",
        "from keras.models import Model\n",
        "from keras.preprocessing import image\n",
        "from keras.utils import layer_utils\n",
        "from keras.utils.data_utils import get_file\n",
        "from keras.applications.imagenet_utils import preprocess_input\n",
        "import pydot\n",
        "from IPython.display import SVG\n",
        "from keras.utils.vis_utils import model_to_dot\n",
        "from keras.utils import plot_model\n",
        "\n",
        "import keras.backend as K\n",
        "K.set_image_data_format('channels_last')\n",
        "import matplotlib.pyplot as plt\n",
        "from matplotlib.pyplot import imshow\n",
        "\n",
        "\n",
        "sns.set(style='white', context='notebook', palette='deep')"
      ],
      "execution_count": 0,
      "outputs": []
    },
    {
      "cell_type": "code",
      "metadata": {
        "id": "t95tC4LWsoJY",
        "colab_type": "code",
        "outputId": "1df02aa3-012d-4334-f21f-8d423b07cd3f",
        "colab": {
          "base_uri": "https://localhost:8080/",
          "height": 478
        }
      },
      "source": [
        "train = pd.read_csv(\"train.csv\")\n",
        "test = pd.read_csv(\"test.csv\")\n",
        "\n",
        "Y_train_orig = train[\"label\"]\n",
        "X_train_orig = train.drop(labels = [\"label\"],axis = 1)\n",
        "\n",
        "del train\n",
        "\n",
        "g = sns.countplot(Y_train_orig)\n",
        "\n",
        "Y_train_orig.value_counts()"
      ],
      "execution_count": 0,
      "outputs": [
        {
          "output_type": "execute_result",
          "data": {
            "text/plain": [
              "1    4684\n",
              "7    4401\n",
              "3    4351\n",
              "9    4188\n",
              "2    4177\n",
              "6    4137\n",
              "0    4132\n",
              "4    4072\n",
              "8    4063\n",
              "5    3795\n",
              "Name: label, dtype: int64"
            ]
          },
          "metadata": {
            "tags": []
          },
          "execution_count": 51
        },
        {
          "output_type": "display_data",
          "data": {
            "image/png": "[encoded data removed]",
            "text/plain": [
              "<Figure size 432x288 with 1 Axes>"
            ]
          },
          "metadata": {
            "tags": []
          }
        }
      ]
    },
    {
      "cell_type": "code",
      "metadata": {
        "id": "AfBM8608sjYA",
        "colab_type": "code",
        "outputId": "b0094bc7-911d-4e71-b9a3-a5ae6901b0ef",
        "colab": {
          "base_uri": "https://localhost:8080/",
          "height": 34
        }
      },
      "source": [
        "#np.size((Y_train_orig.values))\n",
        "#Y_train_orig.shape\n",
        "test.shape"
      ],
      "execution_count": 0,
      "outputs": [
        {
          "output_type": "execute_result",
          "data": {
            "text/plain": [
              "(28000, 28, 28, 1)"
            ]
          },
          "metadata": {
            "tags": []
          },
          "execution_count": 62
        }
      ]
    },
    {
      "cell_type": "code",
      "metadata": {
        "id": "IKfJWWbTvmfV",
        "colab_type": "code",
        "colab": {}
      },
      "source": [
        "X_train_orig = X_train_orig/255\n",
        "test = test/255"
      ],
      "execution_count": 0,
      "outputs": []
    },
    {
      "cell_type": "code",
      "metadata": {
        "id": "FF926S-905Uu",
        "colab_type": "code",
        "colab": {}
      },
      "source": [
        "#Reshape\n",
        "X_train_orig = X_train_orig.values.reshape(-1,28,28,1)\n",
        "test = test.values.reshape(-1,28,28,1)"
      ],
      "execution_count": 0,
      "outputs": []
    },
    {
      "cell_type": "code",
      "metadata": {
        "id": "9Xfk4xDw14oh",
        "colab_type": "code",
        "colab": {}
      },
      "source": [
        "Y_train_orig = to_categorical(Y_train_orig, num_classes = 10)\n",
        "random_seed = 2\n",
        "X_train, X_dev, Y_train, Y_dev = train_test_split(X_train_orig, Y_train_orig, test_size = 0.1,random_state = random_seed)"
      ],
      "execution_count": 0,
      "outputs": []
    },
    {
      "cell_type": "markdown",
      "metadata": {
        "id": "aoKU1ciisoq2",
        "colab_type": "text"
      },
      "source": [
        "With Keras/Tensorflow"
      ]
    },
    {
      "cell_type": "code",
      "metadata": {
        "id": "dHNSlM_v3Plr",
        "colab_type": "code",
        "colab": {}
      },
      "source": [
        "def DigitModel(input_shape):\n",
        "  X_input = Input(input_shape)\n",
        "  X = X_input\n",
        "  \n",
        "  #Layer 1 - Conv>BN>RELU>MaxPool\n",
        "  \n",
        "  X = Conv2D(6,(5,5),strides = (1,1), name = 'conv0', padding = 'same')(X)\n",
        "  X = BatchNormalization(axis = 3, name = 'bn0')(X)\n",
        "  X = Activation('relu')(X)\n",
        "  X = MaxPooling2D((2,2),strides = (2,2), name = 'maxpool0')(X)\n",
        "  \n",
        "  #Layer 2 - Conv>BN>RELU>MaxPool\n",
        "  \n",
        "  X = Conv2D(16,(5,5),strides = (1,1), name = 'conv1', padding = 'valid')(X)\n",
        "  X = BatchNormalization(axis = 3, name = 'bn1')(X)\n",
        "  X = Activation('relu')(X)\n",
        "  X = MaxPooling2D((2,2),strides = (2,2), name = 'maxpool1')(X)\n",
        "  \n",
        "  #FC layers with flattening\n",
        "  \n",
        "  X = Flatten()(X)\n",
        "  X = Dense(120, activation = 'relu', name = 'fc1')(X)\n",
        "  X = Dense(84, activation = 'relu', name = 'fc2')(X)\n",
        "  X = Dense(10, activation = 'softmax', name = 'preds')(X)\n",
        "  \n",
        "  #model instance creator\n",
        "  model = Model(inputs = X_input, outputs = X, name = 'DigitModel')\n",
        "  \n",
        "  return model"
      ],
      "execution_count": 0,
      "outputs": []
    },
    {
      "cell_type": "code",
      "metadata": {
        "id": "2vengyDUtQAR",
        "colab_type": "code",
        "colab": {}
      },
      "source": [
        "#Initialize the model\n",
        "\n",
        "### START CODE HERE ### (1 line)\n",
        "input_shape = X_train.shape[1:4]\n",
        "recog = DigitModel(input_shape)\n",
        "### END CODE HERE ###"
      ],
      "execution_count": 0,
      "outputs": []
    },
    {
      "cell_type": "code",
      "metadata": {
        "id": "nQJPQ1K7vqJm",
        "colab_type": "code",
        "colab": {}
      },
      "source": [
        "#Compile model to configure learning process\n",
        "recog.compile(optimizer = 'adam', loss = 'categorical_crossentropy', metrics = [\"accuracy\"])"
      ],
      "execution_count": 0,
      "outputs": []
    },
    {
      "cell_type": "code",
      "metadata": {
        "id": "TQWC9yDkwnWv",
        "colab_type": "code",
        "outputId": "f38daefe-e1f7-4c6b-dc98-7924f9c95ca2",
        "colab": {
          "base_uri": "https://localhost:8080/",
          "height": 1000
        }
      },
      "source": [
        "#train the model\n",
        "recog.fit(x=X_train, y=Y_train, epochs = 30, batch_size = 86)"
      ],
      "execution_count": 0,
      "outputs": [
        {
          "output_type": "stream",
          "text": [
            "Epoch 1/30\n",
            "37800/37800 [==============================] - 35s 922us/step - loss: 0.2292 - acc: 0.9285\n",
            "Epoch 2/30\n",
            "37800/37800 [==============================] - 33s 886us/step - loss: 0.0683 - acc: 0.9789\n",
            "Epoch 3/30\n",
            "37800/37800 [==============================] - 34s 892us/step - loss: 0.0466 - acc: 0.9846\n",
            "Epoch 4/30\n",
            "37800/37800 [==============================] - 34s 887us/step - loss: 0.0356 - acc: 0.9888\n",
            "Epoch 5/30\n",
            "37800/37800 [==============================] - 34s 890us/step - loss: 0.0324 - acc: 0.9896\n",
            "Epoch 6/30\n",
            "37800/37800 [==============================] - 34s 889us/step - loss: 0.0268 - acc: 0.9913\n",
            "Epoch 7/30\n",
            "37800/37800 [==============================] - 34s 893us/step - loss: 0.0236 - acc: 0.9923\n",
            "Epoch 8/30\n",
            "37800/37800 [==============================] - 34s 892us/step - loss: 0.0204 - acc: 0.9931\n",
            "Epoch 9/30\n",
            "37800/37800 [==============================] - 33s 886us/step - loss: 0.0177 - acc: 0.9945\n",
            "Epoch 10/30\n",
            "37800/37800 [==============================] - 34s 892us/step - loss: 0.0145 - acc: 0.9951\n",
            "Epoch 11/30\n",
            "37800/37800 [==============================] - 34s 888us/step - loss: 0.0156 - acc: 0.9943\n",
            "Epoch 12/30\n",
            "37800/37800 [==============================] - 34s 888us/step - loss: 0.0118 - acc: 0.9962\n",
            "Epoch 13/30\n",
            "37800/37800 [==============================] - 34s 890us/step - loss: 0.0110 - acc: 0.9961\n",
            "Epoch 14/30\n",
            "37800/37800 [==============================] - 34s 888us/step - loss: 0.0121 - acc: 0.9958\n",
            "Epoch 15/30\n",
            "37800/37800 [==============================] - 33s 883us/step - loss: 0.0089 - acc: 0.9970\n",
            "Epoch 16/30\n",
            "37800/37800 [==============================] - 33s 884us/step - loss: 0.0080 - acc: 0.9974\n",
            "Epoch 17/30\n",
            "37800/37800 [==============================] - 34s 894us/step - loss: 0.0097 - acc: 0.9966\n",
            "Epoch 18/30\n",
            "37800/37800 [==============================] - 34s 889us/step - loss: 0.0109 - acc: 0.9963\n",
            "Epoch 19/30\n",
            "37800/37800 [==============================] - 34s 894us/step - loss: 0.0083 - acc: 0.9970\n",
            "Epoch 20/30\n",
            "37800/37800 [==============================] - 34s 891us/step - loss: 0.0064 - acc: 0.9979\n",
            "Epoch 21/30\n",
            "37800/37800 [==============================] - 34s 893us/step - loss: 0.0073 - acc: 0.9974\n",
            "Epoch 22/30\n",
            "37800/37800 [==============================] - 34s 887us/step - loss: 0.0067 - acc: 0.9977\n",
            "Epoch 23/30\n",
            "37800/37800 [==============================] - 34s 887us/step - loss: 0.0037 - acc: 0.9986\n",
            "Epoch 24/30\n",
            "37800/37800 [==============================] - 34s 890us/step - loss: 0.0070 - acc: 0.9975\n",
            "Epoch 25/30\n",
            "37800/37800 [==============================] - 34s 887us/step - loss: 0.0048 - acc: 0.9983\n",
            "Epoch 26/30\n",
            "37800/37800 [==============================] - 34s 897us/step - loss: 9.7698e-04 - acc: 0.9997\n",
            "Epoch 27/30\n",
            "37800/37800 [==============================] - 34s 889us/step - loss: 0.0092 - acc: 0.9968\n",
            "Epoch 28/30\n",
            "37800/37800 [==============================] - 34s 893us/step - loss: 0.0082 - acc: 0.9971\n",
            "Epoch 29/30\n",
            "37800/37800 [==============================] - 34s 888us/step - loss: 0.0028 - acc: 0.9990\n",
            "Epoch 30/30\n",
            "37800/37800 [==============================] - 34s 889us/step - loss: 0.0051 - acc: 0.9985\n"
          ],
          "name": "stdout"
        },
        {
          "output_type": "execute_result",
          "data": {
            "text/plain": [
              "<keras.callbacks.History at 0x7ff8648a87b8>"
            ]
          },
          "metadata": {
            "tags": []
          },
          "execution_count": 59
        }
      ]
    },
    {
      "cell_type": "code",
      "metadata": {
        "id": "jf2VlibNy8H5",
        "colab_type": "code",
        "outputId": "d0b01cb7-a83c-4a39-e406-26e0b053eddf",
        "colab": {
          "base_uri": "https://localhost:8080/",
          "height": 85
        }
      },
      "source": [
        "preds = recog.evaluate(x = X_dev, y = Y_dev)\n",
        "print()\n",
        "print (\"Loss = \" + str(preds[0]))\n",
        "print (\"Test Accuracy = \" + str(preds[1]))"
      ],
      "execution_count": 0,
      "outputs": [
        {
          "output_type": "stream",
          "text": [
            "4200/4200 [==============================] - 2s 380us/step\n",
            "\n",
            "Loss = 0.11258045457626287\n",
            "Test Accuracy = 0.9785714285714285\n"
          ],
          "name": "stdout"
        }
      ]
    },
    {
      "cell_type": "code",
      "metadata": {
        "id": "Hco2saqp89wm",
        "colab_type": "code",
        "outputId": "ed9d345a-a0c2-475e-917d-53be1846d51f",
        "colab": {
          "base_uri": "https://localhost:8080/",
          "height": 1000
        }
      },
      "source": [
        "y_test_set = recog.predict(test)\n",
        "\n"
      ],
      "execution_count": 0,
      "outputs": [
        {
          "output_type": "stream",
          "text": [
            "0        2\n",
            "1        0\n",
            "2        9\n",
            "3        9\n",
            "4        3\n",
            "5        7\n",
            "6        0\n",
            "7        3\n",
            "8        0\n",
            "9        3\n",
            "10       5\n",
            "11       7\n",
            "12       4\n",
            "13       0\n",
            "14       4\n",
            "15       3\n",
            "16       3\n",
            "17       1\n",
            "18       9\n",
            "19       0\n",
            "20       9\n",
            "21       1\n",
            "22       1\n",
            "23       5\n",
            "24       7\n",
            "25       4\n",
            "26       2\n",
            "27       7\n",
            "28       4\n",
            "29       7\n",
            "        ..\n",
            "27970    5\n",
            "27971    0\n",
            "27972    4\n",
            "27973    8\n",
            "27974    0\n",
            "27975    3\n",
            "27976    6\n",
            "27977    0\n",
            "27978    1\n",
            "27979    9\n",
            "27980    3\n",
            "27981    1\n",
            "27982    1\n",
            "27983    0\n",
            "27984    4\n",
            "27985    5\n",
            "27986    2\n",
            "27987    2\n",
            "27988    9\n",
            "27989    6\n",
            "27990    7\n",
            "27991    6\n",
            "27992    7\n",
            "27993    9\n",
            "27994    7\n",
            "27995    9\n",
            "27996    7\n",
            "27997    3\n",
            "27998    9\n",
            "27999    2\n",
            "Name: Label, Length: 28000, dtype: int64\n"
          ],
          "name": "stdout"
        }
      ]
    },
    {
      "cell_type": "code",
      "metadata": {
        "id": "5k-RZUbr9Ews",
        "colab_type": "code",
        "outputId": "a5c933d6-03fd-4543-cdcd-6539b8680447",
        "colab": {
          "base_uri": "https://localhost:8080/",
          "height": 1000
        }
      },
      "source": [
        "#Getting the required desired matrix from max_indices\n",
        "results = np.argmax(y_test_set,axis = 1)\n",
        "#print(results)\n",
        "\n",
        "#Creating the submission Dataframe\n",
        "result = pd.DataFrame({'Label' : results })\n",
        "result_id = pd.DataFrame({'ImageId' : range(1,28001)})\n",
        "#print(result_id)\n",
        "result = pd.concat([result_id,result], axis = 1)\n",
        "#print(result)\n",
        "\n",
        "#Saving into a CSV file\n",
        "result.to_csv(\"submission.csv\", index = False)\n",
        "print(result)"
      ],
      "execution_count": 0,
      "outputs": [
        {
          "output_type": "stream",
          "text": [
            "       ImageId  Label\n",
            "0            1      2\n",
            "1            2      0\n",
            "2            3      9\n",
            "3            4      9\n",
            "4            5      3\n",
            "5            6      7\n",
            "6            7      0\n",
            "7            8      3\n",
            "8            9      0\n",
            "9           10      3\n",
            "10          11      5\n",
            "11          12      7\n",
            "12          13      4\n",
            "13          14      0\n",
            "14          15      4\n",
            "15          16      3\n",
            "16          17      3\n",
            "17          18      1\n",
            "18          19      9\n",
            "19          20      0\n",
            "20          21      9\n",
            "21          22      1\n",
            "22          23      1\n",
            "23          24      5\n",
            "24          25      7\n",
            "25          26      4\n",
            "26          27      2\n",
            "27          28      7\n",
            "28          29      4\n",
            "29          30      7\n",
            "...        ...    ...\n",
            "27970    27971      5\n",
            "27971    27972      0\n",
            "27972    27973      4\n",
            "27973    27974      8\n",
            "27974    27975      0\n",
            "27975    27976      3\n",
            "27976    27977      6\n",
            "27977    27978      0\n",
            "27978    27979      1\n",
            "27979    27980      9\n",
            "27980    27981      3\n",
            "27981    27982      1\n",
            "27982    27983      1\n",
            "27983    27984      0\n",
            "27984    27985      4\n",
            "27985    27986      5\n",
            "27986    27987      2\n",
            "27987    27988      2\n",
            "27988    27989      9\n",
            "27989    27990      6\n",
            "27990    27991      7\n",
            "27991    27992      6\n",
            "27992    27993      7\n",
            "27993    27994      9\n",
            "27994    27995      7\n",
            "27995    27996      9\n",
            "27996    27997      7\n",
            "27997    27998      3\n",
            "27998    27999      9\n",
            "27999    28000      2\n",
            "\n",
            "[28000 rows x 2 columns]\n"
          ],
          "name": "stdout"
        }
      ]
    },
    {
      "cell_type": "code",
      "metadata": {
        "id": "r2CgsF1d9sgb",
        "colab_type": "code",
        "colab": {}
      },
      "source": [
        ""
      ],
      "execution_count": 0,
      "outputs": []
    }
  ]
}
